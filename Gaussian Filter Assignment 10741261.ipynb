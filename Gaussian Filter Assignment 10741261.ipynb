{
 "cells": [
  {
   "cell_type": "code",
   "execution_count": 1,
   "metadata": {},
   "outputs": [],
   "source": [
    "import numpy as np\n",
    "import math\n",
    "def generate_kernel(size):\n",
    "    \n",
    "    kernel =  np.fromfunction(lambda x, y: (1/(2*math.pi*1**2)) * math.e ** ((-1*((x-(size-1)/2)**2+(y-(size-1)/2)**2))/(2*1**2)), (size, size))\n",
    "    return kernel / np.sum(kernel)"
   ]
  },
  {
   "cell_type": "code",
   "execution_count": 2,
   "metadata": {},
   "outputs": [],
   "source": [
    "def gaussianLoop(img,kernel_size):\n",
    "    kernel = generate_kernel(kernel_size)\n",
    "    d = int((kernel_size-1)/2)\n",
    "    gaussian = np.zeros((img.shape[0]-2*d, img.shape[1]-2*d))\n",
    "    for y in range(d, img.shape[0]-d):\n",
    "        for x in range(d, img.shape[1]-d):\n",
    "            gaussian[y-d][x-d] = np.sum(np.multiply(img[y-d:y+d+1, x-d:x+d+1], kernel))\n",
    "    return gaussian"
   ]
  },
  {
   "cell_type": "code",
   "execution_count": 3,
   "metadata": {},
   "outputs": [
    {
     "name": "stdout",
     "output_type": "stream",
     "text": [
      "[[0.75297075 0.79182748 0.28616935 0.23766485 0.99684545 0.3470464\n",
      "  0.03237387 0.26607016]\n",
      " [0.61535199 0.66064262 0.67656944 0.22943718 0.52133295 0.20046581\n",
      "  0.04634425 0.54890203]\n",
      " [0.68081123 0.45568215 0.0685946  0.68434707 0.09345899 0.18473772\n",
      "  0.11388916 0.61395788]\n",
      " [0.3565051  0.29630557 0.21767458 0.70413774 0.9232602  0.01338382\n",
      "  0.22299642 0.47469052]\n",
      " [0.40023587 0.34225667 0.11451605 0.37688078 0.2473939  0.89570766\n",
      "  0.66410873 0.97128911]\n",
      " [0.30552685 0.48266043 0.89381379 0.83569134 0.80707775 0.19940729\n",
      "  0.4296847  0.94904167]\n",
      " [0.33569067 0.72979707 0.0170156  0.18633125 0.17177835 0.17085119\n",
      "  0.70873414 0.04963056]\n",
      " [0.84734478 0.97020104 0.60055974 0.51227377 0.53477021 0.10971101\n",
      "  0.34931579 0.32427637]]\n"
     ]
    }
   ],
   "source": [
    "img= np.random.rand(8, 8)\n",
    "print(img)\n",
    "# Trying to print some random numbers as the image"
   ]
  },
  {
   "cell_type": "code",
   "execution_count": 5,
   "metadata": {},
   "outputs": [
    {
     "data": {
      "text/plain": [
       "array([[0.58372083, 0.45526571, 0.41792394, 0.40391023, 0.26997298,\n",
       "        0.22642505],\n",
       "       [0.44452802, 0.40793691, 0.45109262, 0.39179877, 0.21862122,\n",
       "        0.24846974],\n",
       "       [0.32538019, 0.33066648, 0.45584651, 0.48045061, 0.36253153,\n",
       "        0.40255333],\n",
       "       [0.3633133 , 0.42426222, 0.52592536, 0.55404512, 0.50111682,\n",
       "        0.57056331],\n",
       "       [0.44500017, 0.48488517, 0.49238654, 0.46730602, 0.46056623,\n",
       "        0.55677136],\n",
       "       [0.57145811, 0.51237437, 0.44139834, 0.36995352, 0.34151451,\n",
       "        0.38734909]])"
      ]
     },
     "execution_count": 5,
     "metadata": {},
     "output_type": "execute_result"
    }
   ],
   "source": [
    "gaussianLoop(img,3) \n",
    "# apply the matrix to the kernel"
   ]
  },
  {
   "cell_type": "code",
   "execution_count": null,
   "metadata": {},
   "outputs": [],
   "source": []
  }
 ],
 "metadata": {
  "kernelspec": {
   "display_name": "Python 3",
   "language": "python",
   "name": "python3"
  },
  "language_info": {
   "codemirror_mode": {
    "name": "ipython",
    "version": 3
   },
   "file_extension": ".py",
   "mimetype": "text/x-python",
   "name": "python",
   "nbconvert_exporter": "python",
   "pygments_lexer": "ipython3",
   "version": "3.7.3"
  }
 },
 "nbformat": 4,
 "nbformat_minor": 4
}
